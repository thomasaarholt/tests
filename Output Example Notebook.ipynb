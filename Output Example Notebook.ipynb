{
 "cells": [
  {
   "cell_type": "code",
   "execution_count": 1,
   "metadata": {},
   "outputs": [],
   "source": [
    "%matplotlib widget\n",
    "import numpy as np\n",
    "import matplotlib.pyplot as plt\n",
    "from ipywidgets import widgets"
   ]
  },
  {
   "cell_type": "code",
   "execution_count": 2,
   "metadata": {},
   "outputs": [
    {
     "data": {
      "application/vnd.jupyter.widget-view+json": {
       "model_id": "7feea959acd94428af58e2de766add9c",
       "version_major": 2,
       "version_minor": 0
      },
      "text/plain": [
       "Canvas(toolbar=Toolbar(toolitems=[('Home', 'Reset original view', 'home', 'home'), ('Back', 'Back to previous …"
      ]
     },
     "metadata": {},
     "output_type": "display_data"
    },
    {
     "data": {
      "text/plain": [
       "<matplotlib.image.AxesImage at 0x1e626f1d1c0>"
      ]
     },
     "execution_count": 2,
     "metadata": {},
     "output_type": "execute_result"
    }
   ],
   "source": [
    "fig1, ax1 = plt.subplots()\n",
    "ax1.imshow(np.random.random((5,5)))"
   ]
  },
  {
   "cell_type": "code",
   "execution_count": 3,
   "metadata": {},
   "outputs": [],
   "source": [
    "out1 = widgets.Output()\n",
    "with out1:\n",
    "    display(fig1)"
   ]
  },
  {
   "cell_type": "code",
   "execution_count": 4,
   "metadata": {},
   "outputs": [],
   "source": [
    "box = widgets.HBox([out1])"
   ]
  },
  {
   "cell_type": "code",
   "execution_count": 5,
   "metadata": {},
   "outputs": [
    {
     "data": {
      "application/vnd.jupyter.widget-view+json": {
       "model_id": "a61062b1464c4e1d90f4b1ed0d25458e",
       "version_major": 2,
       "version_minor": 0
      },
      "text/plain": [
       "HBox(children=(Output(outputs=({'output_type': 'display_data', 'data': {'text/plain': '<Figure size 960x720 wi…"
      ]
     },
     "metadata": {},
     "output_type": "display_data"
    }
   ],
   "source": [
    "display(box)"
   ]
  },
  {
   "cell_type": "code",
   "execution_count": 6,
   "metadata": {},
   "outputs": [
    {
     "ename": "AttributeError",
     "evalue": "'NoneType' object has no attribute '_send_event'",
     "output_type": "error",
     "traceback": [
      "\u001b[1;31m---------------------------------------------------------------------------\u001b[0m",
      "\u001b[1;31mAttributeError\u001b[0m                            Traceback (most recent call last)",
      "\u001b[1;32m~\\.conda\\envs\\py5\\lib\\site-packages\\IPython\\core\\formatters.py\u001b[0m in \u001b[0;36m__call__\u001b[1;34m(self, obj)\u001b[0m\n\u001b[0;32m    339\u001b[0m                 \u001b[1;32mpass\u001b[0m\u001b[1;33m\u001b[0m\u001b[1;33m\u001b[0m\u001b[0m\n\u001b[0;32m    340\u001b[0m             \u001b[1;32melse\u001b[0m\u001b[1;33m:\u001b[0m\u001b[1;33m\u001b[0m\u001b[1;33m\u001b[0m\u001b[0m\n\u001b[1;32m--> 341\u001b[1;33m                 \u001b[1;32mreturn\u001b[0m \u001b[0mprinter\u001b[0m\u001b[1;33m(\u001b[0m\u001b[0mobj\u001b[0m\u001b[1;33m)\u001b[0m\u001b[1;33m\u001b[0m\u001b[1;33m\u001b[0m\u001b[0m\n\u001b[0m\u001b[0;32m    342\u001b[0m             \u001b[1;31m# Finally look for special method names\u001b[0m\u001b[1;33m\u001b[0m\u001b[1;33m\u001b[0m\u001b[1;33m\u001b[0m\u001b[0m\n\u001b[0;32m    343\u001b[0m             \u001b[0mmethod\u001b[0m \u001b[1;33m=\u001b[0m \u001b[0mget_real_method\u001b[0m\u001b[1;33m(\u001b[0m\u001b[0mobj\u001b[0m\u001b[1;33m,\u001b[0m \u001b[0mself\u001b[0m\u001b[1;33m.\u001b[0m\u001b[0mprint_method\u001b[0m\u001b[1;33m)\u001b[0m\u001b[1;33m\u001b[0m\u001b[1;33m\u001b[0m\u001b[0m\n",
      "\u001b[1;32m~\\.conda\\envs\\py5\\lib\\site-packages\\IPython\\core\\pylabtools.py\u001b[0m in \u001b[0;36m<lambda>\u001b[1;34m(fig)\u001b[0m\n\u001b[0;32m    246\u001b[0m \u001b[1;33m\u001b[0m\u001b[0m\n\u001b[0;32m    247\u001b[0m     \u001b[1;32mif\u001b[0m \u001b[1;34m'png'\u001b[0m \u001b[1;32min\u001b[0m \u001b[0mformats\u001b[0m\u001b[1;33m:\u001b[0m\u001b[1;33m\u001b[0m\u001b[1;33m\u001b[0m\u001b[0m\n\u001b[1;32m--> 248\u001b[1;33m         \u001b[0mpng_formatter\u001b[0m\u001b[1;33m.\u001b[0m\u001b[0mfor_type\u001b[0m\u001b[1;33m(\u001b[0m\u001b[0mFigure\u001b[0m\u001b[1;33m,\u001b[0m \u001b[1;32mlambda\u001b[0m \u001b[0mfig\u001b[0m\u001b[1;33m:\u001b[0m \u001b[0mprint_figure\u001b[0m\u001b[1;33m(\u001b[0m\u001b[0mfig\u001b[0m\u001b[1;33m,\u001b[0m \u001b[1;34m'png'\u001b[0m\u001b[1;33m,\u001b[0m \u001b[1;33m**\u001b[0m\u001b[0mkwargs\u001b[0m\u001b[1;33m)\u001b[0m\u001b[1;33m)\u001b[0m\u001b[1;33m\u001b[0m\u001b[1;33m\u001b[0m\u001b[0m\n\u001b[0m\u001b[0;32m    249\u001b[0m     \u001b[1;32mif\u001b[0m \u001b[1;34m'retina'\u001b[0m \u001b[1;32min\u001b[0m \u001b[0mformats\u001b[0m \u001b[1;32mor\u001b[0m \u001b[1;34m'png2x'\u001b[0m \u001b[1;32min\u001b[0m \u001b[0mformats\u001b[0m\u001b[1;33m:\u001b[0m\u001b[1;33m\u001b[0m\u001b[1;33m\u001b[0m\u001b[0m\n\u001b[0;32m    250\u001b[0m         \u001b[0mpng_formatter\u001b[0m\u001b[1;33m.\u001b[0m\u001b[0mfor_type\u001b[0m\u001b[1;33m(\u001b[0m\u001b[0mFigure\u001b[0m\u001b[1;33m,\u001b[0m \u001b[1;32mlambda\u001b[0m \u001b[0mfig\u001b[0m\u001b[1;33m:\u001b[0m \u001b[0mretina_figure\u001b[0m\u001b[1;33m(\u001b[0m\u001b[0mfig\u001b[0m\u001b[1;33m,\u001b[0m \u001b[1;33m**\u001b[0m\u001b[0mkwargs\u001b[0m\u001b[1;33m)\u001b[0m\u001b[1;33m)\u001b[0m\u001b[1;33m\u001b[0m\u001b[1;33m\u001b[0m\u001b[0m\n",
      "\u001b[1;32m~\\.conda\\envs\\py5\\lib\\site-packages\\IPython\\core\\pylabtools.py\u001b[0m in \u001b[0;36mprint_figure\u001b[1;34m(fig, fmt, bbox_inches, **kwargs)\u001b[0m\n\u001b[0;32m    130\u001b[0m         \u001b[0mFigureCanvasBase\u001b[0m\u001b[1;33m(\u001b[0m\u001b[0mfig\u001b[0m\u001b[1;33m)\u001b[0m\u001b[1;33m\u001b[0m\u001b[1;33m\u001b[0m\u001b[0m\n\u001b[0;32m    131\u001b[0m \u001b[1;33m\u001b[0m\u001b[0m\n\u001b[1;32m--> 132\u001b[1;33m     \u001b[0mfig\u001b[0m\u001b[1;33m.\u001b[0m\u001b[0mcanvas\u001b[0m\u001b[1;33m.\u001b[0m\u001b[0mprint_figure\u001b[0m\u001b[1;33m(\u001b[0m\u001b[0mbytes_io\u001b[0m\u001b[1;33m,\u001b[0m \u001b[1;33m**\u001b[0m\u001b[0mkw\u001b[0m\u001b[1;33m)\u001b[0m\u001b[1;33m\u001b[0m\u001b[1;33m\u001b[0m\u001b[0m\n\u001b[0m\u001b[0;32m    133\u001b[0m     \u001b[0mdata\u001b[0m \u001b[1;33m=\u001b[0m \u001b[0mbytes_io\u001b[0m\u001b[1;33m.\u001b[0m\u001b[0mgetvalue\u001b[0m\u001b[1;33m(\u001b[0m\u001b[1;33m)\u001b[0m\u001b[1;33m\u001b[0m\u001b[1;33m\u001b[0m\u001b[0m\n\u001b[0;32m    134\u001b[0m     \u001b[1;32mif\u001b[0m \u001b[0mfmt\u001b[0m \u001b[1;33m==\u001b[0m \u001b[1;34m'svg'\u001b[0m\u001b[1;33m:\u001b[0m\u001b[1;33m\u001b[0m\u001b[1;33m\u001b[0m\u001b[0m\n",
      "\u001b[1;32m~\\.conda\\envs\\py5\\lib\\site-packages\\matplotlib\\backend_bases.py\u001b[0m in \u001b[0;36mprint_figure\u001b[1;34m(self, filename, dpi, facecolor, edgecolor, orientation, format, bbox_inches, **kwargs)\u001b[0m\n\u001b[0;32m   2061\u001b[0m             \u001b[1;32mif\u001b[0m \u001b[0mbbox_inches\u001b[0m\u001b[1;33m:\u001b[0m\u001b[1;33m\u001b[0m\u001b[1;33m\u001b[0m\u001b[0m\n\u001b[0;32m   2062\u001b[0m                 \u001b[1;32mif\u001b[0m \u001b[0mbbox_inches\u001b[0m \u001b[1;33m==\u001b[0m \u001b[1;34m\"tight\"\u001b[0m\u001b[1;33m:\u001b[0m\u001b[1;33m\u001b[0m\u001b[1;33m\u001b[0m\u001b[0m\n\u001b[1;32m-> 2063\u001b[1;33m                     renderer = _get_renderer(\n\u001b[0m\u001b[0;32m   2064\u001b[0m                         \u001b[0mself\u001b[0m\u001b[1;33m.\u001b[0m\u001b[0mfigure\u001b[0m\u001b[1;33m,\u001b[0m\u001b[1;33m\u001b[0m\u001b[1;33m\u001b[0m\u001b[0m\n\u001b[0;32m   2065\u001b[0m                         functools.partial(\n",
      "\u001b[1;32m~\\.conda\\envs\\py5\\lib\\site-packages\\matplotlib\\backend_bases.py\u001b[0m in \u001b[0;36m_get_renderer\u001b[1;34m(figure, print_method)\u001b[0m\n\u001b[0;32m   1532\u001b[0m     \u001b[1;32mwith\u001b[0m \u001b[0mcbook\u001b[0m\u001b[1;33m.\u001b[0m\u001b[0m_setattr_cm\u001b[0m\u001b[1;33m(\u001b[0m\u001b[0mfigure\u001b[0m\u001b[1;33m,\u001b[0m \u001b[0mdraw\u001b[0m\u001b[1;33m=\u001b[0m\u001b[0m_draw\u001b[0m\u001b[1;33m)\u001b[0m\u001b[1;33m:\u001b[0m\u001b[1;33m\u001b[0m\u001b[1;33m\u001b[0m\u001b[0m\n\u001b[0;32m   1533\u001b[0m         \u001b[1;32mtry\u001b[0m\u001b[1;33m:\u001b[0m\u001b[1;33m\u001b[0m\u001b[1;33m\u001b[0m\u001b[0m\n\u001b[1;32m-> 1534\u001b[1;33m             \u001b[0mprint_method\u001b[0m\u001b[1;33m(\u001b[0m\u001b[0mio\u001b[0m\u001b[1;33m.\u001b[0m\u001b[0mBytesIO\u001b[0m\u001b[1;33m(\u001b[0m\u001b[1;33m)\u001b[0m\u001b[1;33m)\u001b[0m\u001b[1;33m\u001b[0m\u001b[1;33m\u001b[0m\u001b[0m\n\u001b[0m\u001b[0;32m   1535\u001b[0m         \u001b[1;32mexcept\u001b[0m \u001b[0mDone\u001b[0m \u001b[1;32mas\u001b[0m \u001b[0mexc\u001b[0m\u001b[1;33m:\u001b[0m\u001b[1;33m\u001b[0m\u001b[1;33m\u001b[0m\u001b[0m\n\u001b[0;32m   1536\u001b[0m             \u001b[0mfigure\u001b[0m\u001b[1;33m.\u001b[0m\u001b[0m_cachedRenderer\u001b[0m\u001b[1;33m,\u001b[0m \u001b[1;33m=\u001b[0m \u001b[0mexc\u001b[0m\u001b[1;33m.\u001b[0m\u001b[0margs\u001b[0m\u001b[1;33m\u001b[0m\u001b[1;33m\u001b[0m\u001b[0m\n",
      "\u001b[1;32m~\\.conda\\envs\\py5\\lib\\site-packages\\matplotlib\\backends\\backend_agg.py\u001b[0m in \u001b[0;36mprint_png\u001b[1;34m(self, filename_or_obj, metadata, pil_kwargs, *args, **kwargs)\u001b[0m\n\u001b[0;32m    512\u001b[0m         }\n\u001b[0;32m    513\u001b[0m \u001b[1;33m\u001b[0m\u001b[0m\n\u001b[1;32m--> 514\u001b[1;33m         \u001b[0mFigureCanvasAgg\u001b[0m\u001b[1;33m.\u001b[0m\u001b[0mdraw\u001b[0m\u001b[1;33m(\u001b[0m\u001b[0mself\u001b[0m\u001b[1;33m)\u001b[0m\u001b[1;33m\u001b[0m\u001b[1;33m\u001b[0m\u001b[0m\n\u001b[0m\u001b[0;32m    515\u001b[0m         \u001b[1;32mif\u001b[0m \u001b[0mpil_kwargs\u001b[0m \u001b[1;32mis\u001b[0m \u001b[1;32mnot\u001b[0m \u001b[1;32mNone\u001b[0m\u001b[1;33m:\u001b[0m\u001b[1;33m\u001b[0m\u001b[1;33m\u001b[0m\u001b[0m\n\u001b[0;32m    516\u001b[0m             \u001b[1;32mfrom\u001b[0m \u001b[0mPIL\u001b[0m \u001b[1;32mimport\u001b[0m \u001b[0mImage\u001b[0m\u001b[1;33m\u001b[0m\u001b[1;33m\u001b[0m\u001b[0m\n",
      "\u001b[1;32m~\\.conda\\envs\\py5\\lib\\site-packages\\matplotlib\\backends\\backend_agg.py\u001b[0m in \u001b[0;36mdraw\u001b[1;34m(self)\u001b[0m\n\u001b[0;32m    388\u001b[0m         \u001b[0mself\u001b[0m\u001b[1;33m.\u001b[0m\u001b[0mrenderer\u001b[0m \u001b[1;33m=\u001b[0m \u001b[0mself\u001b[0m\u001b[1;33m.\u001b[0m\u001b[0mget_renderer\u001b[0m\u001b[1;33m(\u001b[0m\u001b[0mcleared\u001b[0m\u001b[1;33m=\u001b[0m\u001b[1;32mTrue\u001b[0m\u001b[1;33m)\u001b[0m\u001b[1;33m\u001b[0m\u001b[1;33m\u001b[0m\u001b[0m\n\u001b[0;32m    389\u001b[0m         \u001b[1;31m# Acquire a lock on the shared font cache.\u001b[0m\u001b[1;33m\u001b[0m\u001b[1;33m\u001b[0m\u001b[1;33m\u001b[0m\u001b[0m\n\u001b[1;32m--> 390\u001b[1;33m         \u001b[1;32mwith\u001b[0m \u001b[0mRendererAgg\u001b[0m\u001b[1;33m.\u001b[0m\u001b[0mlock\u001b[0m\u001b[1;33m,\u001b[0m\u001b[0;31m \u001b[0m\u001b[0;31m\\\u001b[0m\u001b[1;33m\u001b[0m\u001b[1;33m\u001b[0m\u001b[0m\n\u001b[0m\u001b[0;32m    391\u001b[0m              (self.toolbar._wait_cursor_for_draw_cm() if self.toolbar\n\u001b[0;32m    392\u001b[0m               else nullcontext()):\n",
      "\u001b[1;32m~\\.conda\\envs\\py5\\lib\\contextlib.py\u001b[0m in \u001b[0;36m__enter__\u001b[1;34m(self)\u001b[0m\n\u001b[0;32m    111\u001b[0m         \u001b[1;32mdel\u001b[0m \u001b[0mself\u001b[0m\u001b[1;33m.\u001b[0m\u001b[0margs\u001b[0m\u001b[1;33m,\u001b[0m \u001b[0mself\u001b[0m\u001b[1;33m.\u001b[0m\u001b[0mkwds\u001b[0m\u001b[1;33m,\u001b[0m \u001b[0mself\u001b[0m\u001b[1;33m.\u001b[0m\u001b[0mfunc\u001b[0m\u001b[1;33m\u001b[0m\u001b[1;33m\u001b[0m\u001b[0m\n\u001b[0;32m    112\u001b[0m         \u001b[1;32mtry\u001b[0m\u001b[1;33m:\u001b[0m\u001b[1;33m\u001b[0m\u001b[1;33m\u001b[0m\u001b[0m\n\u001b[1;32m--> 113\u001b[1;33m             \u001b[1;32mreturn\u001b[0m \u001b[0mnext\u001b[0m\u001b[1;33m(\u001b[0m\u001b[0mself\u001b[0m\u001b[1;33m.\u001b[0m\u001b[0mgen\u001b[0m\u001b[1;33m)\u001b[0m\u001b[1;33m\u001b[0m\u001b[1;33m\u001b[0m\u001b[0m\n\u001b[0m\u001b[0;32m    114\u001b[0m         \u001b[1;32mexcept\u001b[0m \u001b[0mStopIteration\u001b[0m\u001b[1;33m:\u001b[0m\u001b[1;33m\u001b[0m\u001b[1;33m\u001b[0m\u001b[0m\n\u001b[0;32m    115\u001b[0m             \u001b[1;32mraise\u001b[0m \u001b[0mRuntimeError\u001b[0m\u001b[1;33m(\u001b[0m\u001b[1;34m\"generator didn't yield\"\u001b[0m\u001b[1;33m)\u001b[0m \u001b[1;32mfrom\u001b[0m \u001b[1;32mNone\u001b[0m\u001b[1;33m\u001b[0m\u001b[1;33m\u001b[0m\u001b[0m\n",
      "\u001b[1;32m~\\.conda\\envs\\py5\\lib\\site-packages\\matplotlib\\backend_bases.py\u001b[0m in \u001b[0;36m_wait_cursor_for_draw_cm\u001b[1;34m(self)\u001b[0m\n\u001b[0;32m   2771\u001b[0m         \u001b[1;32mif\u001b[0m \u001b[0mself\u001b[0m\u001b[1;33m.\u001b[0m\u001b[0m_draw_time\u001b[0m \u001b[1;33m-\u001b[0m \u001b[0mlast_draw_time\u001b[0m \u001b[1;33m>\u001b[0m \u001b[1;36m1\u001b[0m\u001b[1;33m:\u001b[0m\u001b[1;33m\u001b[0m\u001b[1;33m\u001b[0m\u001b[0m\n\u001b[0;32m   2772\u001b[0m             \u001b[1;32mtry\u001b[0m\u001b[1;33m:\u001b[0m\u001b[1;33m\u001b[0m\u001b[1;33m\u001b[0m\u001b[0m\n\u001b[1;32m-> 2773\u001b[1;33m                 \u001b[0mself\u001b[0m\u001b[1;33m.\u001b[0m\u001b[0mset_cursor\u001b[0m\u001b[1;33m(\u001b[0m\u001b[0mcursors\u001b[0m\u001b[1;33m.\u001b[0m\u001b[0mWAIT\u001b[0m\u001b[1;33m)\u001b[0m\u001b[1;33m\u001b[0m\u001b[1;33m\u001b[0m\u001b[0m\n\u001b[0m\u001b[0;32m   2774\u001b[0m                 \u001b[1;32myield\u001b[0m\u001b[1;33m\u001b[0m\u001b[1;33m\u001b[0m\u001b[0m\n\u001b[0;32m   2775\u001b[0m             \u001b[1;32mfinally\u001b[0m\u001b[1;33m:\u001b[0m\u001b[1;33m\u001b[0m\u001b[1;33m\u001b[0m\u001b[0m\n",
      "\u001b[1;32m~\\.conda\\envs\\py5\\lib\\site-packages\\matplotlib\\backends\\backend_webagg_core.py\u001b[0m in \u001b[0;36mset_cursor\u001b[1;34m(self, cursor)\u001b[0m\n\u001b[0;32m    379\u001b[0m     \u001b[1;32mdef\u001b[0m \u001b[0mset_cursor\u001b[0m\u001b[1;33m(\u001b[0m\u001b[0mself\u001b[0m\u001b[1;33m,\u001b[0m \u001b[0mcursor\u001b[0m\u001b[1;33m)\u001b[0m\u001b[1;33m:\u001b[0m\u001b[1;33m\u001b[0m\u001b[1;33m\u001b[0m\u001b[0m\n\u001b[0;32m    380\u001b[0m         \u001b[1;32mif\u001b[0m \u001b[0mcursor\u001b[0m \u001b[1;33m!=\u001b[0m \u001b[0mself\u001b[0m\u001b[1;33m.\u001b[0m\u001b[0mcursor\u001b[0m\u001b[1;33m:\u001b[0m\u001b[1;33m\u001b[0m\u001b[1;33m\u001b[0m\u001b[0m\n\u001b[1;32m--> 381\u001b[1;33m             \u001b[0mself\u001b[0m\u001b[1;33m.\u001b[0m\u001b[0mcanvas\u001b[0m\u001b[1;33m.\u001b[0m\u001b[0msend_event\u001b[0m\u001b[1;33m(\u001b[0m\u001b[1;34m\"cursor\"\u001b[0m\u001b[1;33m,\u001b[0m \u001b[0mcursor\u001b[0m\u001b[1;33m=\u001b[0m\u001b[0mcursor\u001b[0m\u001b[1;33m)\u001b[0m\u001b[1;33m\u001b[0m\u001b[1;33m\u001b[0m\u001b[0m\n\u001b[0m\u001b[0;32m    382\u001b[0m         \u001b[0mself\u001b[0m\u001b[1;33m.\u001b[0m\u001b[0mcursor\u001b[0m \u001b[1;33m=\u001b[0m \u001b[0mcursor\u001b[0m\u001b[1;33m\u001b[0m\u001b[1;33m\u001b[0m\u001b[0m\n\u001b[0;32m    383\u001b[0m \u001b[1;33m\u001b[0m\u001b[0m\n",
      "\u001b[1;32m~\\.conda\\envs\\py5\\lib\\site-packages\\matplotlib\\backends\\backend_webagg_core.py\u001b[0m in \u001b[0;36msend_event\u001b[1;34m(self, event_type, **kwargs)\u001b[0m\n\u001b[0;32m    344\u001b[0m \u001b[1;33m\u001b[0m\u001b[0m\n\u001b[0;32m    345\u001b[0m     \u001b[1;32mdef\u001b[0m \u001b[0msend_event\u001b[0m\u001b[1;33m(\u001b[0m\u001b[0mself\u001b[0m\u001b[1;33m,\u001b[0m \u001b[0mevent_type\u001b[0m\u001b[1;33m,\u001b[0m \u001b[1;33m**\u001b[0m\u001b[0mkwargs\u001b[0m\u001b[1;33m)\u001b[0m\u001b[1;33m:\u001b[0m\u001b[1;33m\u001b[0m\u001b[1;33m\u001b[0m\u001b[0m\n\u001b[1;32m--> 346\u001b[1;33m         \u001b[0mself\u001b[0m\u001b[1;33m.\u001b[0m\u001b[0mmanager\u001b[0m\u001b[1;33m.\u001b[0m\u001b[0m_send_event\u001b[0m\u001b[1;33m(\u001b[0m\u001b[0mevent_type\u001b[0m\u001b[1;33m,\u001b[0m \u001b[1;33m**\u001b[0m\u001b[0mkwargs\u001b[0m\u001b[1;33m)\u001b[0m\u001b[1;33m\u001b[0m\u001b[1;33m\u001b[0m\u001b[0m\n\u001b[0m\u001b[0;32m    347\u001b[0m \u001b[1;33m\u001b[0m\u001b[0m\n\u001b[0;32m    348\u001b[0m \u001b[1;33m\u001b[0m\u001b[0m\n",
      "\u001b[1;31mAttributeError\u001b[0m: 'NoneType' object has no attribute '_send_event'"
     ]
    },
    {
     "data": {
      "text/plain": [
       "<Figure size 960x720 with 1 Axes>"
      ]
     },
     "execution_count": 6,
     "metadata": {},
     "output_type": "execute_result"
    }
   ],
   "source": [
    "fig1"
   ]
  },
  {
   "cell_type": "code",
   "execution_count": null,
   "metadata": {},
   "outputs": [],
   "source": []
  }
 ],
 "metadata": {
  "kernelspec": {
   "display_name": "Python 3",
   "language": "python",
   "name": "python3"
  },
  "language_info": {
   "codemirror_mode": {
    "name": "ipython",
    "version": 3
   },
   "file_extension": ".py",
   "mimetype": "text/x-python",
   "name": "python",
   "nbconvert_exporter": "python",
   "pygments_lexer": "ipython3",
   "version": "3.8.2"
  },
  "widgets": {
   "application/vnd.jupyter.widget-state+json": {
    "state": {
     "3124dd806a6249ca9d4722b6f38191f4": {
      "model_module": "@jupyter-widgets/output",
      "model_module_version": "1.0.0",
      "model_name": "OutputModel",
      "state": {
       "layout": "IPY_MODEL_5a25081811d14c77955bed38dc5eb7dd",
       "outputs": [
        {
         "data": {
          "image/png": "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\n",
          "text/plain": "<Figure size 960x720 with 1 Axes>"
         },
         "metadata": {},
         "output_type": "display_data"
        }
       ]
      }
     },
     "53c2d422f8b84823bdcb7bdd24a9f6af": {
      "model_module": "@jupyter-widgets/base",
      "model_module_version": "1.2.0",
      "model_name": "LayoutModel",
      "state": {}
     },
     "595524f3a7df4e9ca5f4148aae60fc96": {
      "model_module": "jupyter-matplotlib",
      "model_module_version": "^0.7.2",
      "model_name": "ToolbarModel",
      "state": {
       "layout": "IPY_MODEL_53c2d422f8b84823bdcb7bdd24a9f6af",
       "toolitems": [
        [
         "Home",
         "Reset original view",
         "home",
         "home"
        ],
        [
         "Back",
         "Back to previous view",
         "arrow-left",
         "back"
        ],
        [
         "Forward",
         "Forward to next view",
         "arrow-right",
         "forward"
        ],
        [
         "Pan",
         "Pan axes with left mouse, zoom with right",
         "arrows",
         "pan"
        ],
        [
         "Zoom",
         "Zoom to rectangle",
         "square-o",
         "zoom"
        ],
        [
         "Download",
         "Download plot",
         "floppy-o",
         "save_figure"
        ]
       ]
      }
     },
     "5a25081811d14c77955bed38dc5eb7dd": {
      "model_module": "@jupyter-widgets/base",
      "model_module_version": "1.2.0",
      "model_name": "LayoutModel",
      "state": {}
     },
     "7e959fc4653c42d1b10bb870a89c7c2a": {
      "model_module": "@jupyter-widgets/base",
      "model_module_version": "1.2.0",
      "model_name": "LayoutModel",
      "state": {}
     },
     "7feea959acd94428af58e2de766add9c": {
      "model_module": "jupyter-matplotlib",
      "model_module_version": "^0.7.2",
      "model_name": "MPLCanvasModel",
      "state": {
       "_cursor": "default",
       "_figure_label": "Figure 1",
       "_height": 480,
       "_image_mode": "diff",
       "_width": 640,
       "layout": "IPY_MODEL_c62897b516934d38bd39b22e0a22407b",
       "toolbar": "IPY_MODEL_595524f3a7df4e9ca5f4148aae60fc96",
       "toolbar_position": "left"
      }
     },
     "a61062b1464c4e1d90f4b1ed0d25458e": {
      "model_module": "@jupyter-widgets/controls",
      "model_module_version": "1.5.0",
      "model_name": "HBoxModel",
      "state": {
       "children": [
        "IPY_MODEL_3124dd806a6249ca9d4722b6f38191f4"
       ],
       "layout": "IPY_MODEL_7e959fc4653c42d1b10bb870a89c7c2a"
      }
     },
     "c62897b516934d38bd39b22e0a22407b": {
      "model_module": "@jupyter-widgets/base",
      "model_module_version": "1.2.0",
      "model_name": "LayoutModel",
      "state": {}
     }
    },
    "version_major": 2,
    "version_minor": 0
   }
  }
 },
 "nbformat": 4,
 "nbformat_minor": 4
}
